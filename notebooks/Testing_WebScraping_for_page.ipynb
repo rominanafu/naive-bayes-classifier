{
  "nbformat": 4,
  "nbformat_minor": 0,
  "metadata": {
    "colab": {
      "provenance": []
    },
    "kernelspec": {
      "name": "python3",
      "display_name": "Python 3"
    },
    "language_info": {
      "name": "python"
    }
  },
  "cells": [
    {
      "cell_type": "code",
      "execution_count": null,
      "metadata": {
        "id": "MD5eG3EQu1BR"
      },
      "outputs": [],
      "source": [
        "import requests\n",
        "from bs4 import BeautifulSoup\n",
        "import pandas as pd"
      ]
    },
    {
      "cell_type": "code",
      "source": [
        "url_base = \"https://www.yourghoststories.com/real-ghost-story.php?story=\""
      ],
      "metadata": {
        "id": "0EQjfmKbu3lj"
      },
      "execution_count": null,
      "outputs": []
    },
    {
      "cell_type": "code",
      "source": [
        "from dataclasses import dataclass\n",
        "\n",
        "@dataclass\n",
        "class History:\n",
        "  title: str\n",
        "  place: str\n",
        "  h_type: str\n",
        "  history: str"
      ],
      "metadata": {
        "id": "u_kaCIMP0tEd"
      },
      "execution_count": null,
      "outputs": []
    },
    {
      "cell_type": "code",
      "source": [
        "def get_page_history(num: str):\n",
        "    response = requests.get(url_base + num)\n",
        "    soup = BeautifulSoup(response.text, \"html.parser\")\n",
        "\n",
        "\n",
        "    story_div = soup.find(\"div\", id=\"story\")\n",
        "    title = soup.find(\"h1\", class_=\"storytitle\")\n",
        "    storyinfo_divs = soup.find_all(\"div\", class_=\"storyinfo\")\n",
        "\n",
        "    if len(storyinfo_divs) < 2:\n",
        "        return None\n",
        "\n",
        "    info_div = storyinfo_divs[1]\n",
        "\n",
        "\n",
        "    country_tag = info_div.find(\"a\", href=lambda x: x and \"ghost-stories-countries\" in x)\n",
        "    country = country_tag.get_text(strip=True) if country_tag else None\n",
        "\n",
        "\n",
        "    category_tag = info_div.find(\"a\", href=lambda x: x and \"ghost-stories-categories\" in x)\n",
        "    category = category_tag.get_text(strip=True) if category_tag else None\n",
        "\n",
        "    paragraphs = [p.get_text() for p in story_div.find_all(\"p\") or []]\n",
        "    return History(\n",
        "        title=title.get_text() if title else \"\",\n",
        "        place=country,\n",
        "        h_type=category,\n",
        "        history= \"\".join(paragraphs)\n",
        "    )\n"
      ],
      "metadata": {
        "id": "KSqDpqK8yOWN"
      },
      "execution_count": null,
      "outputs": []
    },
    {
      "cell_type": "markdown",
      "source": [
        "## Codigo optimizado con funciones asincronicas para sacarle mas rapidez"
      ],
      "metadata": {
        "id": "LvaI0p9K5kKj"
      }
    },
    {
      "cell_type": "markdown",
      "source": [
        "**Importante**\n",
        "Despues de hacer el codigo, lo probe y ... no funciona xd, por que no tenemos permiso de hacerles tantas request asi xD"
      ],
      "metadata": {
        "id": "ywpGSs_i6xEy"
      }
    },
    {
      "cell_type": "markdown",
      "source": [
        "**Nota 2** Si se pudo ejecutar pero en script local"
      ],
      "metadata": {
        "id": "co1Ggx7OQIQH"
      }
    },
    {
      "cell_type": "code",
      "source": [
        "import aiohttp\n",
        "import asyncio\n",
        "from bs4 import BeautifulSoup\n",
        "\n",
        "async def get_page_history(session, num: str):\n",
        "    async with session.get(url_base + num) as response:\n",
        "        html = await response.text()\n",
        "        soup = BeautifulSoup(html, \"html.parser\")\n",
        "\n",
        "        story_div = soup.find(\"div\", id=\"story\")\n",
        "        title = soup.find(\"h1\", class_=\"storytitle\")\n",
        "        storyinfo_divs = soup.find_all(\"div\", class_=\"storyinfo\")\n",
        "\n",
        "        if len(storyinfo_divs) < 2:\n",
        "            return None\n",
        "\n",
        "        info_div = storyinfo_divs[1]\n",
        "        country_tag = info_div.find(\"a\", href=lambda x: x and \"ghost-stories-countries\" in x)\n",
        "        country = country_tag.get_text(strip=True) if country_tag else None\n",
        "\n",
        "        category_tag = info_div.find(\"a\", href=lambda x: x and \"ghost-stories-categories\" in x)\n",
        "        category = category_tag.get_text(strip=True) if category_tag else None\n",
        "\n",
        "        paragraphs = [p.get_text() for p in story_div.find_all(\"p\") or []]\n",
        "\n",
        "        return History(\n",
        "            title=title.get_text() if title else \"\",\n",
        "            place=country,\n",
        "            h_type=category,\n",
        "            history=\"\".join(paragraphs),\n",
        "        )\n",
        "\n",
        "async def main(nums):\n",
        "    async with aiohttp.ClientSession() as session:\n",
        "        tasks = [get_page_history(session, str(num)) for num in nums]\n",
        "        results = await asyncio.gather(*tasks)\n",
        "        return results\n"
      ],
      "metadata": {
        "id": "k27uaojw5jx2"
      },
      "execution_count": null,
      "outputs": []
    }
  ]
}