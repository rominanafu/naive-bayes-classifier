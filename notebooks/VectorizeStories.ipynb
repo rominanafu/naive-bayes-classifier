{
 "cells": [
  {
   "cell_type": "markdown",
   "id": "5c8db91d",
   "metadata": {},
   "source": [
    "Leer los datos"
   ]
  },
  {
   "cell_type": "code",
   "execution_count": 1,
   "id": "f6cde126",
   "metadata": {},
   "outputs": [],
   "source": [
    "import pandas as pd\n",
    "\n",
    "stories = pd.read_csv('../data/histories.csv', sep=';')"
   ]
  },
  {
   "cell_type": "markdown",
   "id": "2e59397f",
   "metadata": {},
   "source": [
    "Eliminar las stopwords y vectorizar las historias"
   ]
  },
  {
   "cell_type": "code",
   "execution_count": 3,
   "id": "b256ba6b",
   "metadata": {},
   "outputs": [
    {
     "data": {
      "text/plain": [
       "(3007, 15000)"
      ]
     },
     "execution_count": 3,
     "metadata": {},
     "output_type": "execute_result"
    }
   ],
   "source": [
    "from sklearn.feature_extraction.text import CountVectorizer\n",
    "\n",
    "vectorizer = CountVectorizer(max_features=15000, stop_words='english')\n",
    "X = vectorizer.fit_transform(stories['history'])\n",
    "\n",
    "X.toarray().shape"
   ]
  },
  {
   "cell_type": "markdown",
   "id": "970ed6e7",
   "metadata": {},
   "source": [
    "Exportar a csv"
   ]
  },
  {
   "cell_type": "code",
   "execution_count": 4,
   "id": "e2df654e",
   "metadata": {},
   "outputs": [],
   "source": [
    "# Exportar a csv\n",
    "df = pd.DataFrame(X.toarray(), columns=vectorizer.get_feature_names_out())\n",
    "df.to_csv('../data/histories_vectorized.csv', index=False)"
   ]
  }
 ],
 "metadata": {
  "kernelspec": {
   "display_name": "Python 3",
   "language": "python",
   "name": "python3"
  },
  "language_info": {
   "codemirror_mode": {
    "name": "ipython",
    "version": 3
   },
   "file_extension": ".py",
   "mimetype": "text/x-python",
   "name": "python",
   "nbconvert_exporter": "python",
   "pygments_lexer": "ipython3",
   "version": "3.12.4"
  }
 },
 "nbformat": 4,
 "nbformat_minor": 5
}
